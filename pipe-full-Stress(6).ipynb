{
 "cells": [
  {
   "cell_type": "code",
   "execution_count": 1,
   "metadata": {},
   "outputs": [
    {
     "name": "stderr",
     "output_type": "stream",
     "text": [
      "c:\\users\\sdpl\\anaconda3\\envs\\tensorflow\\lib\\site-packages\\h5py\\__init__.py:36: FutureWarning: Conversion of the second argument of issubdtype from `float` to `np.floating` is deprecated. In future, it will be treated as `np.float64 == np.dtype(float).type`.\n",
      "  from ._conv import register_converters as _register_converters\n"
     ]
    }
   ],
   "source": [
    "import tensorflow as tf\n",
    "import numpy as np\n",
    "import math\n",
    "import requests\n",
    "import matplotlib.pyplot as plt\n",
    "sess = tf.Session()"
   ]
  },
  {
   "cell_type": "code",
   "execution_count": 2,
   "metadata": {},
   "outputs": [],
   "source": [
    "xy = np.loadtxt('pipedata.csv', delimiter=',', dtype=np.float32)\n",
    "x_vals = xy[:, 0:-1]\n",
    "y_vals = np.array([x[7] for x in xy])"
   ]
  },
  {
   "cell_type": "code",
   "execution_count": 3,
   "metadata": {},
   "outputs": [],
   "source": [
    "batch_size = 100"
   ]
  },
  {
   "cell_type": "code",
   "execution_count": 4,
   "metadata": {},
   "outputs": [],
   "source": [
    "train_indices = np.random.choice(len(x_vals),round(len(x_vals)*0.824), replace=False)\n",
    "test_indices = np.array(list(set(range(len(x_vals))) - set(train_indices)))\n",
    "x_vals_train = x_vals[train_indices]\n",
    "x_vals_test = x_vals[test_indices]\n",
    "y_vals_train = y_vals[train_indices]\n",
    "y_vals_test = y_vals[test_indices]\n",
    "\n",
    "def normalize_cols(m):\n",
    "    col_max = m.max(axis=0)\n",
    "    col_min = m.min(axis=0)\n",
    "    return (m - col_min) / (col_max - col_min)\n",
    "\n",
    "x_vals_train = np.nan_to_num(normalize_cols(x_vals_train))\n",
    "x_vals_test = np.nan_to_num(normalize_cols(x_vals_test))"
   ]
  },
  {
   "cell_type": "code",
   "execution_count": 5,
   "metadata": {},
   "outputs": [],
   "source": [
    "def init_weight(n_inputs, n_outputs, uniform=True):\n",
    "    if uniform:\n",
    "        init_range = math.sqrt(6.0 / ((n_inputs/2) + n_outputs))\n",
    "        return tf.random_uniform_initializer(-init_range, init_range)\n",
    "    else:\n",
    "        stddev = math.sqrt(3.0 / ((n_inputs/2) + n_outputs))\n",
    "        return tf.truncated_normal_initializer(stddev=stddev)"
   ]
  },
  {
   "cell_type": "code",
   "execution_count": 6,
   "metadata": {},
   "outputs": [],
   "source": [
    "x_data = tf.placeholder(shape=[None, 7], dtype=tf.float32)\n",
    "y_target = tf.placeholder(shape=[None, 1], dtype=tf.float32)"
   ]
  },
  {
   "cell_type": "code",
   "execution_count": 7,
   "metadata": {},
   "outputs": [],
   "source": [
    "def fully_connected(input_layer, weights, biases) :\n",
    "    layer = tf.add(tf.matmul(input_layer, weights), biases)\n",
    "    return(tf.nn.relu(layer))"
   ]
  },
  {
   "cell_type": "code",
   "execution_count": 8,
   "metadata": {},
   "outputs": [],
   "source": [
    "weight_1 = tf.get_variable(\"Weight_1\", shape=[7, 64], initializer=init_weight(7, 64))\n",
    "bias_1 = tf.Variable(tf.random_normal([64]))\n",
    "layer_1 = fully_connected(x_data, weight_1, bias_1)"
   ]
  },
  {
   "cell_type": "code",
   "execution_count": 9,
   "metadata": {},
   "outputs": [],
   "source": [
    "weight_2 = tf.get_variable(\"Weight_2\", shape=[64, 32], initializer=init_weight(64, 32))\n",
    "bias_2 = tf.Variable(tf.random_normal([32]))\n",
    "layer_2 = fully_connected(layer_1, weight_2, bias_2)"
   ]
  },
  {
   "cell_type": "code",
   "execution_count": 10,
   "metadata": {},
   "outputs": [],
   "source": [
    "weight_3 = tf.get_variable(\"Weight_3\", shape=[32, 16], initializer=init_weight(32, 16))\n",
    "bias_3 = tf.Variable(tf.random_normal([16]))\n",
    "layer_3 = fully_connected(layer_2, weight_3, bias_3)"
   ]
  },
  {
   "cell_type": "code",
   "execution_count": 11,
   "metadata": {},
   "outputs": [],
   "source": [
    "weight_4 = tf.get_variable(\"Weight_4\", shape=[16, 8], initializer=init_weight(16, 8))\n",
    "bias_4 = tf.Variable(tf.random_normal([8]))\n",
    "layer_4 = fully_connected(layer_3, weight_4, bias_4)"
   ]
  },
  {
   "cell_type": "code",
   "execution_count": 12,
   "metadata": {},
   "outputs": [],
   "source": [
    "weight_5 = tf.get_variable(\"Weight_5\", shape=[8, 4], initializer=init_weight(8, 4))\n",
    "bias_5 = tf.Variable(tf.random_normal([4]))\n",
    "layer_5 = fully_connected(layer_4, weight_5, bias_5)"
   ]
  },
  {
   "cell_type": "code",
   "execution_count": 13,
   "metadata": {},
   "outputs": [],
   "source": [
    "weight_6 = tf.get_variable(\"Weight_6\", shape=[4, 2], initializer=init_weight(4, 2))\n",
    "bias_6 = tf.Variable(tf.random_normal([2]))\n",
    "layer_6 = fully_connected(layer_5, weight_6, bias_6)"
   ]
  },
  {
   "cell_type": "code",
   "execution_count": 14,
   "metadata": {},
   "outputs": [],
   "source": [
    "weight_7 = tf.get_variable(\"Weight_7\", shape=[2, 1], initializer=init_weight(2, 1))\n",
    "bias_7 = tf.Variable(tf.random_normal([1]))\n",
    "final_output = fully_connected(layer_6, weight_7, bias_7)"
   ]
  },
  {
   "cell_type": "code",
   "execution_count": 15,
   "metadata": {},
   "outputs": [],
   "source": [
    "predictions_correct = tf.abs(((final_output-y_target)/y_target)*100)\n",
    "accuracy = tf.reduce_mean(predictions_correct)"
   ]
  },
  {
   "cell_type": "code",
   "execution_count": 16,
   "metadata": {},
   "outputs": [],
   "source": [
    "loss = tf.reduce_mean(tf.abs(y_target - final_output))\n",
    "my_opt = tf.train.AdamOptimizer(0.01)\n",
    "train_step = my_opt.minimize(loss)\n",
    "init = tf.global_variables_initializer()\n",
    "sess.run(init)"
   ]
  },
  {
   "cell_type": "code",
   "execution_count": 17,
   "metadata": {},
   "outputs": [],
   "source": [
    "loss_vec = []\n",
    "test_loss = []\n",
    "acc_vec = []\n",
    "test_acc = []\n",
    "for i in range(10000):\n",
    "    rand_index = np.random.choice(len(x_vals_train), size=batch_size)\n",
    "    rand_x = x_vals_train[rand_index]\n",
    "    rand_y = np.transpose([y_vals_train[rand_index]])\n",
    "    sess.run(train_step, feed_dict={x_data: rand_x, y_target: rand_y})\n",
    "    \n",
    "    temp_loss = sess.run(loss, feed_dict={x_data: rand_x, y_target : rand_y})\n",
    "    loss_vec.append(temp_loss)\n",
    "    test_temp_loss = sess.run(loss, feed_dict={x_data: x_vals_test, y_target: np.transpose([y_vals_test])})\n",
    "    test_loss.append(test_temp_loss)\n",
    "    temp_acc = sess.run(accuracy, feed_dict={x_data: rand_x, y_target : rand_y})\n",
    "    acc_vec.append(temp_acc)\n",
    "    test_temp_acc = sess.run(accuracy, feed_dict={x_data: x_vals_test, y_target: np.transpose([y_vals_test])})\n",
    "    test_acc.append(test_temp_acc)"
   ]
  },
  {
   "cell_type": "code",
   "execution_count": 18,
   "metadata": {},
   "outputs": [
    {
     "data": {
      "image/png": "[encoded data removed]",
      "text/plain": [
       "<Figure size 432x288 with 1 Axes>"
      ]
     },
     "metadata": {},
     "output_type": "display_data"
    },
    {
     "data": {
      "image/png": "[encoded data removed]",
      "text/plain": [
       "<Figure size 432x288 with 1 Axes>"
      ]
     },
     "metadata": {},
     "output_type": "display_data"
    }
   ],
   "source": [
    "plt.plot(loss_vec, 'k-', label='Train Loss')\n",
    "plt.plot(test_loss, 'r--', label='Validation Loss')\n",
    "plt.title('Loss (MSE) per Generation')\n",
    "plt.legend(loc='upper right')\n",
    "plt.xlabel('generation')\n",
    "plt.ylabel('Loss')\n",
    "plt.show()\n",
    "\n",
    "plt.plot(acc_vec, 'k-', label='Train Set Error')\n",
    "plt.plot(test_acc, 'r-', label='Validation Set Error')\n",
    "plt.title('Train, Validation Error')\n",
    "plt.xlabel('Generation')\n",
    "plt.ylabel('Error')\n",
    "plt.legend(loc='lower right')\n",
    "plt.show()"
   ]
  },
  {
   "cell_type": "code",
   "execution_count": 19,
   "metadata": {},
   "outputs": [],
   "source": [
    "y_train = sess.run(final_output, feed_dict = {x_data: rand_x, y_target : rand_y})\n",
    "e_train = sess.run(predictions_correct, feed_dict = {x_data: rand_x, y_target : rand_y})\n",
    "y_valid = sess.run(final_output, feed_dict = {x_data: x_vals_test, y_target: np.transpose([y_vals_test])})\n",
    "e_valid = sess.run(predictions_correct, feed_dict = {x_data: x_vals_test, y_target: np.transpose([y_vals_test])})"
   ]
  },
  {
   "cell_type": "code",
   "execution_count": 20,
   "metadata": {},
   "outputs": [],
   "source": [
    "np.savetxt(\"./pipe-full/result(6)(train).csv\", (e_train), delimiter=',')\n",
    "np.savetxt(\"./pipe-full/result(6)(valid).csv\", (e_valid), delimiter=',')"
   ]
  },
  {
   "cell_type": "code",
   "execution_count": 21,
   "metadata": {},
   "outputs": [],
   "source": [
    "xy = np.loadtxt('pipedata(test).csv', delimiter=',', dtype=np.float32)\n",
    "x_vals = xy[:, 0:-1]\n",
    "y_vals = np.array([x[7] for x in xy])"
   ]
  },
  {
   "cell_type": "code",
   "execution_count": 22,
   "metadata": {},
   "outputs": [],
   "source": [
    "test_indices = np.array(list(set(range(len(x_vals)))))\n",
    "x_vals_test = x_vals[test_indices]\n",
    "y_vals_test = y_vals[test_indices]\n",
    "\n",
    "def normalize_cols(m):\n",
    "    col_max = m.max(axis=0)\n",
    "    col_min = m.min(axis=0)\n",
    "    return (m - col_min) / (col_max - col_min)\n",
    "\n",
    "x_vals_test = np.nan_to_num(normalize_cols(x_vals_test))"
   ]
  },
  {
   "cell_type": "code",
   "execution_count": 23,
   "metadata": {},
   "outputs": [],
   "source": [
    "y_test = sess.run(final_output, feed_dict = {x_data: x_vals_test})\n",
    "e_test = sess.run(predictions_correct, feed_dict = {x_data: x_vals_test, y_target: np.transpose([y_vals_test])})"
   ]
  },
  {
   "cell_type": "code",
   "execution_count": 24,
   "metadata": {},
   "outputs": [],
   "source": [
    "np.savetxt(\"./pipe-full/result(6)(test.y).csv\", (y_test), delimiter=',')\n",
    "np.savetxt(\"./pipe-full/result(6)(test).csv\", (e_test), delimiter=',')"
   ]
  },
  {
   "cell_type": "code",
   "execution_count": null,
   "metadata": {},
   "outputs": [],
   "source": []
  }
 ],
 "metadata": {
  "kernelspec": {
   "display_name": "Python 3",
   "language": "python",
   "name": "python3"
  },
  "language_info": {
   "codemirror_mode": {
    "name": "ipython",
    "version": 3
   },
   "file_extension": ".py",
   "mimetype": "text/x-python",
   "name": "python",
   "nbconvert_exporter": "python",
   "pygments_lexer": "ipython3",
   "version": "3.6.5"
  }
 },
 "nbformat": 4,
 "nbformat_minor": 2
}
